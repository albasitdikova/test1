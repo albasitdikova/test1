{
 "cells": [
  {
   "cell_type": "code",
   "execution_count": 1,
   "metadata": {},
   "outputs": [],
   "source": [
    "def anagram_checker(string1, string2):\n",
    "    dict1 = count_letters(string1)\n",
    "    dict2 = count_letters(string2)\n",
    "            \n",
    "    for i in dict2.keys():\n",
    "        if i not in dict1.keys():\n",
    "            return False\n",
    "            break\n",
    "        else:\n",
    "            if dict1[i] < dict2[i]:\n",
    "                return False\n",
    "                break\n",
    "            else:\n",
    "                continue\n",
    "            \n",
    "    return True"
   ]
  },
  {
   "cell_type": "code",
   "execution_count": null,
   "metadata": {},
   "outputs": [],
   "source": []
  }
 ],
 "metadata": {
  "kernelspec": {
   "display_name": "Python 3",
   "language": "python",
   "name": "python3"
  },
  "language_info": {
   "codemirror_mode": {
    "name": "ipython",
    "version": 3
   },
   "file_extension": ".py",
   "mimetype": "text/x-python",
   "name": "python",
   "nbconvert_exporter": "python",
   "pygments_lexer": "ipython3",
   "version": "3.8.5"
  }
 },
 "nbformat": 4,
 "nbformat_minor": 4
}
