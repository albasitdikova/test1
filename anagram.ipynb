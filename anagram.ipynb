{
 "cells": [
  {
   "cell_type": "code",
   "execution_count": 1,
   "metadata": {},
   "outputs": [],
   "source": [
    "def anagram_checker(string1, string2):\n",
    "    set1 = set(string1) \n",
    "    set2 = set(string2) \n",
    "    \n",
    "    if set1 == set2: #check if both stings have the same letters\n",
    "        for i in set1:\n",
    "            if string1.count(i) != string2.count(i): #checking if both string have the same count of letters\n",
    "                return False\n",
    "                break            \n",
    "    else:\n",
    "        return False\n",
    "    \n",
    "    return True"
   ]
  },
  {
   "cell_type": "code",
   "execution_count": 2,
   "metadata": {},
   "outputs": [
    {
     "data": {
      "text/plain": [
       "'You passed all tests!'"
      ]
     },
     "execution_count": 2,
     "metadata": {},
     "output_type": "execute_result"
    }
   ],
   "source": [
    "\n",
    "# DON'T CHANGE THIS CELL! IT'S JUST HERE TO TEST YOUR CODE\n",
    "\n",
    "def exercise_tester():\n",
    "    \"\"\"\n",
    "    This function will test your anagram_checker function\n",
    "    by putting in some values and making sure you get the\n",
    "    correct answer!\n",
    "    \n",
    "    If you've written your code well, you should see \n",
    "    \"you passed all tests!\" as your output of this cell.\n",
    "    \"\"\"\n",
    "    \n",
    "    assert anagram_checker('cat','tac') == True, \"Failed on First Test!\"\n",
    "    assert anagram_checker('taCo','taco') == False, \"Failed on Second Test!\"\n",
    "    assert anagram_checker('realm','realm ') == False, \"Failed on Third Test!\"\n",
    "    assert anagram_checker('rail safety','fairy tales') == True, \"Failed on Fourth Test!\"\n",
    "    assert anagram_checker('steve','bob') == False, \"Failed on Fifth Test!\"\n",
    "    return \"You passed all tests!\"\n",
    "\n",
    "exercise_tester()"
   ]
  },
  {
   "cell_type": "code",
   "execution_count": null,
   "metadata": {},
   "outputs": [],
   "source": []
  }
 ],
 "metadata": {
  "kernelspec": {
   "display_name": "Python 3",
   "language": "python",
   "name": "python3"
  },
  "language_info": {
   "codemirror_mode": {
    "name": "ipython",
    "version": 3
   },
   "file_extension": ".py",
   "mimetype": "text/x-python",
   "name": "python",
   "nbconvert_exporter": "python",
   "pygments_lexer": "ipython3",
   "version": "3.8.5"
  }
 },
 "nbformat": 4,
 "nbformat_minor": 4
}
