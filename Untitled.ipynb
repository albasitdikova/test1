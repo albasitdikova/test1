{
 "cells": [
  {
   "cell_type": "code",
   "execution_count": 1,
   "metadata": {},
   "outputs": [],
   "source": [
    "def count_letters(input_string):\n",
    "    my_set = set(input_string)\n",
    "    output_dict = {}\n",
    "    \n",
    "    for i in my_set:\n",
    "        if i in output_dict.keys():\n",
    "            output_dict[i]+=1\n",
    "        else:\n",
    "            output_dict[i]=0\n",
    "            \n",
    "    return output_dict\n"
   ]
  },
  {
   "cell_type": "markdown",
   "metadata": {},
   "source": [
    "def anagram_checker(string1, string2):\n",
    "    dict1 = count_letters(string1)\n",
    "    dict2 = count_letters(string2)\n",
    "            \n",
    "    for i in dict2.keys():\n",
    "        if i not in dict1.keys():\n",
    "            return False\n",
    "            break\n",
    "        else:\n",
    "            if dict1[i] < dict2[i]:\n",
    "                return False\n",
    "                break\n",
    "            else:\n",
    "                continue\n",
    "            \n",
    "    return True"
   ]
  },
  {
   "cell_type": "code",
   "execution_count": 3,
   "metadata": {},
   "outputs": [
    {
     "data": {
      "text/plain": [
       "'You passed all tests!'"
      ]
     },
     "execution_count": 3,
     "metadata": {},
     "output_type": "execute_result"
    }
   ],
   "source": [
    "def exercise_tester():\n",
    "    \"\"\"\n",
    "    This function will test your anagram_checker function\n",
    "    by putting in some values and making sure you get the\n",
    "    correct answer!\n",
    "    \n",
    "    If you've written your code well, you should see \n",
    "    \"you passed all tests!\" as your output of this cell.\n",
    "    \"\"\"\n",
    "    \n",
    "    assert anagram_checker('cat','tac') == True, \"Failed on First Test!\"\n",
    "    assert anagram_checker('taCo','taco') == False, \"Failed on Second Test!\"\n",
    "    assert anagram_checker('realm','realm ') == False, \"Failed on Third Test!\"\n",
    "    assert anagram_checker('rail safety','fairy tales') == True, \"Failed on Fourth Test!\"\n",
    "    assert anagram_checker('steve','bob') == False, \"Failed on Fifth Test!\"\n",
    "    return \"You passed all tests!\"\n",
    "\n",
    "exercise_tester()"
   ]
  },
  {
   "cell_type": "markdown",
   "metadata": {},
   "source": [
    "def anagram_checker(string1, string2):\n",
    "    dict1 = count_letters(string1)\n",
    "    dict2 = count_letters(string2)\n",
    "            \n",
    "    for i in dict2.keys():\n",
    "        if i not in dict1.keys():\n",
    "            return False\n",
    "            break\n",
    "        else:\n",
    "            if dict1[i] < dict2[i]:\n",
    "                return False\n",
    "                break\n",
    "            else:\n",
    "                continue\n",
    "            \n",
    "    return True"
   ]
  },
  {
   "cell_type": "code",
   "execution_count": null,
   "metadata": {},
   "outputs": [],
   "source": [
    "def anagram_checker(string1, string2):\n",
    "    dict1 = count_letters(string1)\n",
    "    dict2 = count_letters(string2)\n",
    "            \n",
    "    for i in dict2.keys():\n",
    "        if i not in dict1.keys():\n",
    "            return False\n",
    "            break\n",
    "        else:\n",
    "            if dict1[i] < dict2[i]:\n",
    "                return False\n",
    "                break\n",
    "            else:\n",
    "                continue\n",
    "            \n",
    "    return True"
   ]
  },
  {
   "cell_type": "raw",
   "metadata": {},
   "source": [
    "def anagram_checker(string1, string2):\n",
    "    dict1 = count_letters(string1)\n",
    "    dict2 = count_letters(string2)\n",
    "            \n",
    "    for i in dict2.keys():\n",
    "        if i not in dict1.keys():\n",
    "            return False\n",
    "            break\n",
    "        else:\n",
    "            if dict1[i] < dict2[i]:\n",
    "                return False\n",
    "                break\n",
    "            else:\n",
    "                continue\n",
    "            \n",
    "    return True"
   ]
  },
  {
   "cell_type": "code",
   "execution_count": null,
   "metadata": {},
   "outputs": [],
   "source": []
  }
 ],
 "metadata": {
  "kernelspec": {
   "display_name": "Python 3",
   "language": "python",
   "name": "python3"
  },
  "language_info": {
   "codemirror_mode": {
    "name": "ipython",
    "version": 3
   },
   "file_extension": ".py",
   "mimetype": "text/x-python",
   "name": "python",
   "nbconvert_exporter": "python",
   "pygments_lexer": "ipython3",
   "version": "3.8.5"
  }
 },
 "nbformat": 4,
 "nbformat_minor": 4
}
